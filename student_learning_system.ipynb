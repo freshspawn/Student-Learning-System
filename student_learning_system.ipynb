{
 "cells": [
  {
   "cell_type": "markdown",
   "metadata": {},
   "source": [
    "## Basic Student Functionality ##"
   ]
  },
  {
   "cell_type": "code",
   "execution_count": 21,
   "metadata": {},
   "outputs": [],
   "source": [
    "\n",
    "#Initialize an empty list that will hold dictionaries representing info from students\n",
    "students=[]\n",
    "\n",
    "\n",
    "def add_student(name, age, grade):\n",
    "    name = name.lower()\n",
    "    student_dict = {'Name' : name, 'Age': age, \"Grade\": grade}\n",
    "    students.append(student_dict)\n",
    "\n",
    "def delete_student(name):\n",
    "    name = name.lower()\n",
    "\n",
    "\n",
    "    # Python assumes that you are trying to create a new local variable called students, we need to make sure python knows we are referring\n",
    "    #the global students#\n",
    "\n",
    "    # global(student)\n",
    "    # student =  list(filter(lambda n : n[\"Name\"] != name , students))   \n",
    "\n",
    "\n",
    "    #This solution also works using list indexing so python knows we are referring to the students variable\n",
    "    students[:] =  list(filter(lambda n : n[\"Name\"] != name , students))   \n",
    "\n",
    "\n",
    "\n",
    "\n",
    "def update_student(name, new_age = None, new_grade = None):\n",
    "    #Check if we don't update anything, if not we just return to save time\n",
    "    if(new_age == None and new_grade == None):\n",
    "        return \n",
    "\n",
    "    #Iterate through the students and check whether we update the age or grades\n",
    "    for index, student  in enumerate(students):\n",
    "        if student[\"Name\"] == name:\n",
    "            if(new_age != None):\n",
    "                students[index][\"Age\"] = new_age\n",
    "            if(new_grade != None):\n",
    "                students[index][\"Grade\"] = new_grade\n",
    "            break         "
   ]
  },
  {
   "cell_type": "markdown",
   "metadata": {},
   "source": [
    "## Display Students ##"
   ]
  },
  {
   "cell_type": "code",
   "execution_count": 22,
   "metadata": {},
   "outputs": [],
   "source": [
    "def display_students():\n",
    "    for student in students:\n",
    "        print(\"Name: {n} \\tAge: {s} \\tGrade: {g}\".format(n = student[\"Name\"] , s = student[\"Age\"], g =student[\"Grade\"]))"
   ]
  },
  {
   "cell_type": "markdown",
   "metadata": {},
   "source": [
    "Test our current functions"
   ]
  },
  {
   "cell_type": "code",
   "execution_count": 23,
   "metadata": {},
   "outputs": [
    {
     "name": "stdout",
     "output_type": "stream",
     "text": [
      "Name: test \tAge: 21 \tGrade: 12\n",
      "Name: andrew \tAge: 21 \tGrade: 12\n"
     ]
    }
   ],
   "source": [
    "add_student(\"Andrew\" , 21, 12)\n",
    "add_student(\"test\" , 20, 10)\n",
    "delete_student(\"Andrew\")\n",
    "update_student(\"test\", 21, 12)\n",
    "add_student(\"Andrew\" , 21, 12)\n",
    "display_students()\n",
    "\n",
    "\n"
   ]
  },
  {
   "cell_type": "markdown",
   "metadata": {},
   "source": [
    "## Save and Read Student Data ##"
   ]
  },
  {
   "cell_type": "code",
   "execution_count": 24,
   "metadata": {},
   "outputs": [],
   "source": [
    "import json\n",
    "\n",
    "#Write to filename with the contents of the student array\n",
    "def write(filename, students_arr):\n",
    "    filename_path = f'{filename}.json'\n",
    "    with open(filename_path, 'w') as file:\n",
    "        json.dump(students_arr, file)\n",
    "    \n",
    "\n",
    "\n",
    "\n",
    "\n",
    "write(\"students\" , students)\n",
    "\n",
    "\n",
    "\n",
    "#Specify the filename that we want to read from, returns a python list object containing dictionaries of students\n",
    "def read(filename):\n",
    "    filename_path = f'{filename}.json'\n",
    "    with open(filename_path, 'r') as file:\n",
    "        return json.load(file)\n",
    "\n",
    "\n",
    "\n"
   ]
  },
  {
   "cell_type": "markdown",
   "metadata": {},
   "source": [
    "Test the write and read functionalities"
   ]
  },
  {
   "cell_type": "code",
   "execution_count": 25,
   "metadata": {},
   "outputs": [
    {
     "name": "stdout",
     "output_type": "stream",
     "text": [
      "[{'Name': 'test', 'Age': 21, 'Grade': 12}, {'Name': 'andrew', 'Age': 21, 'Grade': 12}]\n"
     ]
    }
   ],
   "source": [
    "write(\"students\" , students)\n",
    "students_arr = read(\"students\")\n",
    "print(students_arr)"
   ]
  },
  {
   "cell_type": "markdown",
   "metadata": {},
   "source": [
    "## User Interaction ##"
   ]
  },
  {
   "cell_type": "code",
   "execution_count": 29,
   "metadata": {},
   "outputs": [
    {
     "name": "stdout",
     "output_type": "stream",
     "text": [
      "Welcome to the Student Learning System. What would you like to do?\n",
      "\n",
      "\t[1] Add Student\n",
      "\t[2] Delete Student\n",
      "\t[3] Update Student\n",
      "\t[4] Display Student\n",
      "\t[5] Write data to File\n",
      "\t[6] Read data from file\n",
      "\t[7] Quit\n"
     ]
    },
    {
     "ename": "KeyboardInterrupt",
     "evalue": "Interrupted by user",
     "output_type": "error",
     "traceback": [
      "\u001b[1;31m---------------------------------------------------------------------------\u001b[0m",
      "\u001b[1;31mKeyboardInterrupt\u001b[0m                         Traceback (most recent call last)",
      "\u001b[1;32mc:\\Users\\abend\\OneDrive - University of California, Davis\\Python Projects\\Student Learning System\\student_learning_system.ipynb Cell 12\u001b[0m line \u001b[0;36m6\n\u001b[0;32m     <a href='vscode-notebook-cell:/c%3A/Users/abend/OneDrive%20-%20University%20of%20California%2C%20Davis/Python%20Projects/Student%20Learning%20System/student_learning_system.ipynb#X11sZmlsZQ%3D%3D?line=64'>65</a>\u001b[0m \u001b[39mif\u001b[39;00m num_choice \u001b[39m==\u001b[39m \u001b[39m1\u001b[39m:\n\u001b[0;32m     <a href='vscode-notebook-cell:/c%3A/Users/abend/OneDrive%20-%20University%20of%20California%2C%20Davis/Python%20Projects/Student%20Learning%20System/student_learning_system.ipynb#X11sZmlsZQ%3D%3D?line=65'>66</a>\u001b[0m     name \u001b[39m=\u001b[39m request_name()\n\u001b[1;32m---> <a href='vscode-notebook-cell:/c%3A/Users/abend/OneDrive%20-%20University%20of%20California%2C%20Davis/Python%20Projects/Student%20Learning%20System/student_learning_system.ipynb#X11sZmlsZQ%3D%3D?line=66'>67</a>\u001b[0m     age  \u001b[39m=\u001b[39m request_age()\n\u001b[0;32m     <a href='vscode-notebook-cell:/c%3A/Users/abend/OneDrive%20-%20University%20of%20California%2C%20Davis/Python%20Projects/Student%20Learning%20System/student_learning_system.ipynb#X11sZmlsZQ%3D%3D?line=67'>68</a>\u001b[0m     grade \u001b[39m=\u001b[39m request_grade()\n\u001b[0;32m     <a href='vscode-notebook-cell:/c%3A/Users/abend/OneDrive%20-%20University%20of%20California%2C%20Davis/Python%20Projects/Student%20Learning%20System/student_learning_system.ipynb#X11sZmlsZQ%3D%3D?line=68'>69</a>\u001b[0m     add_student(name, age, grade)\n",
      "\u001b[1;32mc:\\Users\\abend\\OneDrive - University of California, Davis\\Python Projects\\Student Learning System\\student_learning_system.ipynb Cell 12\u001b[0m line \u001b[0;36m2\n\u001b[0;32m     <a href='vscode-notebook-cell:/c%3A/Users/abend/OneDrive%20-%20University%20of%20California%2C%20Davis/Python%20Projects/Student%20Learning%20System/student_learning_system.ipynb#X11sZmlsZQ%3D%3D?line=17'>18</a>\u001b[0m \u001b[39mdef\u001b[39;00m \u001b[39mrequest_age\u001b[39m():\n\u001b[0;32m     <a href='vscode-notebook-cell:/c%3A/Users/abend/OneDrive%20-%20University%20of%20California%2C%20Davis/Python%20Projects/Student%20Learning%20System/student_learning_system.ipynb#X11sZmlsZQ%3D%3D?line=20'>21</a>\u001b[0m     \u001b[39mwhile\u001b[39;00m \u001b[39mTrue\u001b[39;00m:\n\u001b[1;32m---> <a href='vscode-notebook-cell:/c%3A/Users/abend/OneDrive%20-%20University%20of%20California%2C%20Davis/Python%20Projects/Student%20Learning%20System/student_learning_system.ipynb#X11sZmlsZQ%3D%3D?line=21'>22</a>\u001b[0m         student_age \u001b[39m=\u001b[39m \u001b[39minput\u001b[39m(\u001b[39m\"\u001b[39m\u001b[39mWhat is the student\u001b[39m\u001b[39m'\u001b[39m\u001b[39ms age?\u001b[39m\u001b[39m\"\u001b[39m)\n\u001b[0;32m     <a href='vscode-notebook-cell:/c%3A/Users/abend/OneDrive%20-%20University%20of%20California%2C%20Davis/Python%20Projects/Student%20Learning%20System/student_learning_system.ipynb#X11sZmlsZQ%3D%3D?line=22'>23</a>\u001b[0m         \u001b[39mif\u001b[39;00m student_age\u001b[39m.\u001b[39misdigit():\n\u001b[0;32m     <a href='vscode-notebook-cell:/c%3A/Users/abend/OneDrive%20-%20University%20of%20California%2C%20Davis/Python%20Projects/Student%20Learning%20System/student_learning_system.ipynb#X11sZmlsZQ%3D%3D?line=23'>24</a>\u001b[0m             \u001b[39mreturn\u001b[39;00m \u001b[39mint\u001b[39m(student_age)\n",
      "File \u001b[1;32mc:\\Users\\abend\\anaconda3\\Lib\\site-packages\\ipykernel\\kernelbase.py:1175\u001b[0m, in \u001b[0;36mKernel.raw_input\u001b[1;34m(self, prompt)\u001b[0m\n\u001b[0;32m   1171\u001b[0m \u001b[39mif\u001b[39;00m \u001b[39mnot\u001b[39;00m \u001b[39mself\u001b[39m\u001b[39m.\u001b[39m_allow_stdin:\n\u001b[0;32m   1172\u001b[0m     \u001b[39mraise\u001b[39;00m StdinNotImplementedError(\n\u001b[0;32m   1173\u001b[0m         \u001b[39m\"\u001b[39m\u001b[39mraw_input was called, but this frontend does not support input requests.\u001b[39m\u001b[39m\"\u001b[39m\n\u001b[0;32m   1174\u001b[0m     )\n\u001b[1;32m-> 1175\u001b[0m \u001b[39mreturn\u001b[39;00m \u001b[39mself\u001b[39m\u001b[39m.\u001b[39m_input_request(\n\u001b[0;32m   1176\u001b[0m     \u001b[39mstr\u001b[39m(prompt),\n\u001b[0;32m   1177\u001b[0m     \u001b[39mself\u001b[39m\u001b[39m.\u001b[39m_parent_ident[\u001b[39m\"\u001b[39m\u001b[39mshell\u001b[39m\u001b[39m\"\u001b[39m],\n\u001b[0;32m   1178\u001b[0m     \u001b[39mself\u001b[39m\u001b[39m.\u001b[39mget_parent(\u001b[39m\"\u001b[39m\u001b[39mshell\u001b[39m\u001b[39m\"\u001b[39m),\n\u001b[0;32m   1179\u001b[0m     password\u001b[39m=\u001b[39m\u001b[39mFalse\u001b[39;00m,\n\u001b[0;32m   1180\u001b[0m )\n",
      "File \u001b[1;32mc:\\Users\\abend\\anaconda3\\Lib\\site-packages\\ipykernel\\kernelbase.py:1217\u001b[0m, in \u001b[0;36mKernel._input_request\u001b[1;34m(self, prompt, ident, parent, password)\u001b[0m\n\u001b[0;32m   1214\u001b[0m             \u001b[39mbreak\u001b[39;00m\n\u001b[0;32m   1215\u001b[0m \u001b[39mexcept\u001b[39;00m \u001b[39mKeyboardInterrupt\u001b[39;00m:\n\u001b[0;32m   1216\u001b[0m     \u001b[39m# re-raise KeyboardInterrupt, to truncate traceback\u001b[39;00m\n\u001b[1;32m-> 1217\u001b[0m     \u001b[39mraise\u001b[39;00m \u001b[39mKeyboardInterrupt\u001b[39;00m(\u001b[39m\"\u001b[39m\u001b[39mInterrupted by user\u001b[39m\u001b[39m\"\u001b[39m) \u001b[39mfrom\u001b[39;00m \u001b[39mNone\u001b[39;00m\n\u001b[0;32m   1218\u001b[0m \u001b[39mexcept\u001b[39;00m \u001b[39mException\u001b[39;00m:\n\u001b[0;32m   1219\u001b[0m     \u001b[39mself\u001b[39m\u001b[39m.\u001b[39mlog\u001b[39m.\u001b[39mwarning(\u001b[39m\"\u001b[39m\u001b[39mInvalid Message:\u001b[39m\u001b[39m\"\u001b[39m, exc_info\u001b[39m=\u001b[39m\u001b[39mTrue\u001b[39;00m)\n",
      "\u001b[1;31mKeyboardInterrupt\u001b[0m: Interrupted by user"
     ]
    }
   ],
   "source": [
    "\n",
    "\n",
    "\n",
    "def print_options():\n",
    "    print(\"\\t[1] Add Student\")\n",
    "    print(\"\\t[2] Delete Student\")\n",
    "    print(\"\\t[3] Update Student\")\n",
    "    print(\"\\t[4] Display Student\")\n",
    "    print(\"\\t[5] Write data to File\")\n",
    "    print(\"\\t[6] Read data from file\")\n",
    "    print(\"\\t[7] Quit\")\n",
    "    return input(\"Please choose a number between 1 and 7\")\n",
    "\n",
    "\n",
    "#Helper function to request a student's name\n",
    "def request_name():\n",
    "    student_name = input(\"What is the student's name?\")\n",
    "    return student_name\n",
    "\n",
    "#Helper function to request a student's age and validate input\n",
    "def request_age():\n",
    "    \n",
    "    \n",
    "    while True:\n",
    "        student_age = input(\"What is the student's age?\")\n",
    "        if student_age.isdigit():\n",
    "            return int(student_age)\n",
    "        else:\n",
    "            continue\n",
    "            \n",
    "\n",
    "#Helper function to request student's grade and validate input\n",
    "def request_grade():\n",
    "\n",
    "    while True:\n",
    "        student_grade = input(\"What is the student's grade?\")   \n",
    "        if student_grade.isdigit():\n",
    "            return int(student_grade)\n",
    "        else:\n",
    "            continue\n",
    "\n",
    "\n",
    "\n",
    "def validate_delete(name):\n",
    "    if not students:\n",
    "        print(\"There are no students available to delete. Please select another option.\")\n",
    "\n",
    "    else:\n",
    "        for index, student  in enumerate(students):\n",
    "            if student[\"Name\"] == name:\n",
    "                delete_student(name)\n",
    "                print(\"Deletion Succesful\")\n",
    "        print(f\"Student {name} was not found. Please select another option\")\n",
    "\n",
    "\n",
    "#Check if we are running this script directly. If we are, then __name__ is __main__. Otherwise if this is imported we don't run this block of code\n",
    "if __name__ == \"__main__\":\n",
    "    print(\"Welcome to the Student Learning System. What would you like to do?\\n\")\n",
    "\n",
    "    while True:\n",
    "        user_choice = print_options()\n",
    "        if user_choice.isdigit():\n",
    "            num_choice = int(user_choice)\n",
    "             #Check to see if the user picks a number not within our valid range\n",
    "            if(num_choice > 7 or num_choice < 0):\n",
    "                print(\"Invaid Number, Please select a number between 1 and 7\")\n",
    "            else:\n",
    "                #Check if student already exists \n",
    "                if num_choice == 1:\n",
    "                    name = request_name()\n",
    "                    age  = request_age()\n",
    "                    grade = request_grade()\n",
    "                    add_student(name, age, grade)\n",
    "                    continue   \n",
    "                #Check if we can delete student and if the student passed in is within the lis\n",
    "                elif num_choice == 2:\n",
    "                    name = request_name()\n",
    "\n",
    "                    validate_delete(name)\n",
    "                    continue\n",
    "                #Check if the name that user inputs is a student\n",
    "                elif num_choice == 3:\n",
    "                    continue\n",
    "                #Check if there are students in the student list\n",
    "                elif num_choice == 4:\n",
    "                    continue\n",
    "                elif num_choice == 5:\n",
    "                    continue\n",
    "                elif num_choice == 6:\n",
    "                    continue\n",
    "                #if the user enters in a 7, quit\n",
    "                else:\n",
    "                    break\n",
    "                \n",
    "        else:\n",
    "            print(\"You did not enter a digit. Please enter a number between 1 and 7\")\n",
    "            continue"
   ]
  }
 ],
 "metadata": {
  "kernelspec": {
   "display_name": "base",
   "language": "python",
   "name": "python3"
  },
  "language_info": {
   "codemirror_mode": {
    "name": "ipython",
    "version": 3
   },
   "file_extension": ".py",
   "mimetype": "text/x-python",
   "name": "python",
   "nbconvert_exporter": "python",
   "pygments_lexer": "ipython3",
   "version": "3.11.4"
  },
  "orig_nbformat": 4
 },
 "nbformat": 4,
 "nbformat_minor": 2
}
