{
 "cells": [
  {
   "cell_type": "code",
   "execution_count": 66,
   "metadata": {},
   "outputs": [],
   "source": [
    "\n",
    "#Initialize an empty list that will hold dictionaries representing info from students\n",
    "students=[]\n",
    "\n",
    "\n",
    "def add_student(name, age, grade):\n",
    "    name = name.lower()\n",
    "    student_dict = {'Name' : name, 'Age': age, \"Grade\": grade}\n",
    "    students.append(student_dict)\n",
    "\n",
    "def delete_student(name):\n",
    "    name = name.lower()\n",
    "\n",
    "\n",
    "    # Python assumes that you are trying to create a new local variable called students, we need to make sure python knows we are referring\n",
    "    #the global students#\n",
    "\n",
    "    # global(student)\n",
    "    # student =  list(filter(lambda n : n[\"Name\"] != name , students))   \n",
    "\n",
    "\n",
    "    #This solution also works using list indexing so python knows we are referring to the students variable\n",
    "    students[:] =  list(filter(lambda n : n[\"Name\"] != name , students))   \n",
    "\n",
    "\n",
    "\n",
    "\n",
    "def update_student(name, new_age = None, new_grade = None):\n",
    "    #Check if we don't update anything, if not we just return to save time\n",
    "    if(new_age == None and new_grade == None):\n",
    "        return \n",
    "\n",
    "    #Iterate through the students and check whether we update the age or grades\n",
    "    for index, student  in enumerate(students):\n",
    "        if student[\"Name\"] == name:\n",
    "            if(new_age != None):\n",
    "                students[index][\"Age\"] = new_age\n",
    "            if(new_grade != None):\n",
    "                students[index][\"Grade\"] = new_grade\n",
    "            break\n",
    "            \n",
    "\n",
    "\n",
    "   \n",
    "\n",
    "\n",
    "    \n",
    "\n",
    "\n",
    "\n"
   ]
  },
  {
   "cell_type": "code",
   "execution_count": 67,
   "metadata": {},
   "outputs": [
    {
     "name": "stdout",
     "output_type": "stream",
     "text": [
      "[{'Name': 'andrew', 'Age': 21, 'Grade': 12}]\n",
      "[{'Name': 'andrew', 'Age': 21, 'Grade': 12}, {'Name': 'test', 'Age': 20, 'Grade': 10}]\n",
      "[{'Name': 'test', 'Age': 20, 'Grade': 10}]\n",
      "[{'Name': 'test', 'Age': 20, 'Grade': 10}]\n"
     ]
    }
   ],
   "source": [
    "add_student(\"Andrew\" , 21, 12)\n",
    "print(students)\n",
    "add_student(\"test\" , 20, 10)\n",
    "print(students)\n",
    "\n",
    "delete_student(\"Andrew\")\n",
    "print(students)\n",
    "\n",
    "\n",
    "update_student(\"test\", 21, 12)\n",
    "print(students)\n",
    "\n",
    "\n"
   ]
  }
 ],
 "metadata": {
  "kernelspec": {
   "display_name": "base",
   "language": "python",
   "name": "python3"
  },
  "language_info": {
   "codemirror_mode": {
    "name": "ipython",
    "version": 3
   },
   "file_extension": ".py",
   "mimetype": "text/x-python",
   "name": "python",
   "nbconvert_exporter": "python",
   "pygments_lexer": "ipython3",
   "version": "3.11.4"
  },
  "orig_nbformat": 4
 },
 "nbformat": 4,
 "nbformat_minor": 2
}
